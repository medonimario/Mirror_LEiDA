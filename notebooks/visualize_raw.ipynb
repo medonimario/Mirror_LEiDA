{
 "cells": [
  {
   "cell_type": "code",
   "execution_count": null,
   "metadata": {},
   "outputs": [],
   "source": [
    "import mne\n",
    "import numpy as np\n",
    "import matplotlib.pyplot as plt\n",
    "import os\n",
    "import sys\n",
    "import pandas as pd"
   ]
  },
  {
   "cell_type": "code",
   "execution_count": null,
   "metadata": {},
   "outputs": [],
   "source": [
    "raw_data_path = '../data/raw/'\n",
    "path = raw_data_path + 'PPT1/'\n",
    "input_fname = path + 's_101_Coordination.set'\n",
    "\n",
    "epochs = mne.io.read_epochs_eeglab(input_fname)\n",
    "print(epochs)"
   ]
  },
  {
   "cell_type": "code",
   "execution_count": null,
   "metadata": {},
   "outputs": [],
   "source": [
    "epochs.info"
   ]
  },
  {
   "cell_type": "code",
   "execution_count": null,
   "metadata": {},
   "outputs": [],
   "source": [
    "%matplotlib qt\n",
    "epochs.plot(n_channels = 64, title = \"Raw Epochs\",block=True)\n"
   ]
  },
  {
   "cell_type": "code",
   "execution_count": null,
   "metadata": {},
   "outputs": [],
   "source": [
    "epochs.plot_psd_topomap(ch_type='eeg', normalize=True)\n",
    "epochs.plot_psd(fmin=2., fmax=40., average=True, spatial_colors=True)"
   ]
  },
  {
   "cell_type": "code",
   "execution_count": null,
   "metadata": {},
   "outputs": [],
   "source": [
    "epochs.plot_sensors(show_names=True)"
   ]
  },
  {
   "cell_type": "code",
   "execution_count": null,
   "metadata": {},
   "outputs": [],
   "source": [
    "# set montage\n",
    "montage = mne.channels.make_standard_montage('biosemi64')\n",
    "epochs.set_montage(montage)\n",
    "\n",
    "# plot the sensor locations\n",
    "epochs.plot_sensors(show_names=True)"
   ]
  },
  {
   "cell_type": "code",
   "execution_count": null,
   "metadata": {},
   "outputs": [],
   "source": [
    "epochs.plot_psd_topomap(ch_type='eeg', normalize=True)"
   ]
  },
  {
   "cell_type": "code",
   "execution_count": null,
   "metadata": {},
   "outputs": [],
   "source": [
    "epoch_counts = []\n",
    "folders = [\"PPT1/\", \"PPT2/\"]\n",
    "for folder in folders:\n",
    "    path = raw_data_path + folder\n",
    "    # go through all .set files in the folder\n",
    "    for root, dirs, files in os.walk(path):\n",
    "        for file in files:\n",
    "            if file.endswith('.set'):\n",
    "                input_fname = os.path.join(root, file)\n",
    "                print(input_fname)\n",
    "                epochs = mne.io.read_epochs_eeglab(input_fname)\n",
    "                print(epochs)\n",
    "                # print the number of channels\n",
    "                print(epochs.info)\n",
    "                epoch_counts.append(len(epochs))\n",
    "\n"
   ]
  },
  {
   "cell_type": "code",
   "execution_count": null,
   "metadata": {},
   "outputs": [],
   "source": [
    "print(epoch_counts)"
   ]
  },
  {
   "cell_type": "code",
   "execution_count": null,
   "metadata": {},
   "outputs": [],
   "source": [
    "print(\"Number of epoch objects: \", len(epoch_counts))\n",
    "print(\"Max number of epochs: \", np.max(epoch_counts))\n",
    "print(\"Min number of epochs: \", np.min(epoch_counts))\n",
    "print(\"Average number of epochs: \", np.mean(epoch_counts))"
   ]
  }
 ],
 "metadata": {
  "kernelspec": {
   "display_name": "mirror",
   "language": "python",
   "name": "python3"
  },
  "language_info": {
   "codemirror_mode": {
    "name": "ipython",
    "version": 3
   },
   "file_extension": ".py",
   "mimetype": "text/x-python",
   "name": "python",
   "nbconvert_exporter": "python",
   "pygments_lexer": "ipython3",
   "version": "3.12.9"
  }
 },
 "nbformat": 4,
 "nbformat_minor": 2
}
