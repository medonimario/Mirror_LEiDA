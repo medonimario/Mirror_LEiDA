{
 "cells": [
  {
   "cell_type": "markdown",
   "metadata": {},
   "source": [
    "# EEG Source Reconstruction Pipeline\n",
    "\n",
    "This script loads EEG epochs from an EEGLAB `.set` file, sets up a standard 64-channel montage, and computes the forward solution for source localization using the `fsaverage` template.\n"
   ]
  },
  {
   "cell_type": "code",
   "execution_count": null,
   "metadata": {},
   "outputs": [],
   "source": [
    "import mne\n",
    "import numpy as np\n",
    "import matplotlib.pyplot as plt\n",
    "import os\n",
    "import sys\n",
    "import pandas as pd"
   ]
  },
  {
   "cell_type": "markdown",
   "metadata": {},
   "source": [
    "## 1. Load EEG Epochs\n",
    "\n",
    "We load preprocessed EEG data stored in an EEGLAB `.set` file and convert it to an MNE `Epochs` object for further processing.\n"
   ]
  },
  {
   "cell_type": "code",
   "execution_count": null,
   "metadata": {},
   "outputs": [],
   "source": [
    "raw_data_path = '../data/raw/'\n",
    "path = raw_data_path + 'PPT1/'\n",
    "input_fname = path + 's_101_Coordination.set'"
   ]
  },
  {
   "cell_type": "code",
   "execution_count": null,
   "metadata": {},
   "outputs": [],
   "source": [
    "epochs = mne.io.read_epochs_eeglab(input_fname)\n",
    "print(epochs)\n",
    "\n",
    "# Subsample the epochs to get a smaller dataset (optional)\n",
    "epochs = epochs[:5]"
   ]
  },
  {
   "cell_type": "markdown",
   "metadata": {},
   "source": [
    "## 2. Set Montage\n",
    "\n",
    "We apply the standard 64-channel BioSemi montage to ensure correct electrode positioning in 3D space. This step is crucial for accurate source localization.\n"
   ]
  },
  {
   "cell_type": "code",
   "execution_count": null,
   "metadata": {},
   "outputs": [],
   "source": [
    "# set montage\n",
    "montage = mne.channels.make_standard_montage('biosemi64')\n",
    "epochs.set_montage(montage)"
   ]
  },
  {
   "cell_type": "markdown",
   "metadata": {},
   "source": [
    "## 3. Compute Forward Solution\n",
    "\n",
    "The forward solution maps neural sources in the brain to EEG scalp signals. We use the `fsaverage` template, which includes:\n",
    "- A predefined **source space** (dipole grid on the cortex).\n",
    "- A **BEM model** (boundary element model of the head).\n",
    "- A standard **head-to-MRI transform** (`fsaverage`).\n",
    "\n",
    "The forward model is computed with `mne.make_forward_solution()`, ensuring sources are at least **5 mm** away from the inner skull.\n"
   ]
  },
  {
   "cell_type": "code",
   "execution_count": null,
   "metadata": {},
   "outputs": [],
   "source": [
    "SUBJECTS_DIR = mne.datasets.fetch_fsaverage()\n",
    "SUBJECT = 'fsaverage'\n",
    "\n",
    "if \"fsaverage\" in os.path.basename(SUBJECTS_DIR):\n",
    "    SUBJECTS_DIR = os.path.dirname(SUBJECTS_DIR)  # Move one directory up\n",
    "print(f\"Fsaverage directory is at: {SUBJECTS_DIR}\")\n",
    "\n",
    "# Transformation file that aligns the EEG data with the MRI data\n",
    "trans = 'fsaverage'  \n",
    "\n",
    "# Source space that describes the locations of the dipoles\n",
    "src = os.path.join(SUBJECTS_DIR, SUBJECT, 'bem', 'fsaverage-ico-5-src.fif') \n",
    "\n",
    "# Boundary Element Model that describes the volume conduction model\n",
    "bem = os.path.join(SUBJECTS_DIR, SUBJECT, 'bem', 'fsaverage-5120-5120-5120-bem-sol.fif') "
   ]
  },
  {
   "cell_type": "code",
   "execution_count": null,
   "metadata": {},
   "outputs": [],
   "source": [
    "# Build the forward solution\n",
    "fwd = mne.make_forward_solution(\n",
    "    info=epochs.info,\n",
    "    trans=trans,\n",
    "    src=src,\n",
    "    bem=bem,\n",
    "    eeg=True,\n",
    "    mindist=5.0,\n",
    "    n_jobs=4\n",
    ")\n",
    "\n",
    "print(fwd)\n",
    "\n",
    "# Save forward operator since it is the same for all subjects\n",
    "source_path = '../data/source_reconstruction/'\n",
    "fwd_fname = source_path + 'fsaverage_64_fwd.fif'\n",
    "mne.write_forward_solution(fwd_fname, fwd, overwrite=True)"
   ]
  },
  {
   "cell_type": "markdown",
   "metadata": {},
   "source": [
    "## 3.5 Load Forward solution\n"
   ]
  },
  {
   "cell_type": "code",
   "execution_count": null,
   "metadata": {},
   "outputs": [],
   "source": [
    "fname_fwd = source_path + 'fsaverage_64_fwd.fif'\n",
    "fwd = mne.read_forward_solution(fname_fwd)"
   ]
  },
  {
   "cell_type": "markdown",
   "metadata": {},
   "source": [
    "## 4. Parcelation - Desikan-Killiany atlas\n",
    "- 68 ROIs: 34 ROI from each hemisphere\n",
    "- Named aparc.annot in MNE python fsaverage folder"
   ]
  },
  {
   "cell_type": "code",
   "execution_count": null,
   "metadata": {},
   "outputs": [],
   "source": [
    "labels = mne.read_labels_from_annot(\"fsaverage\", parc=\"aparc\",\n",
    "                                    subjects_dir=SUBJECTS_DIR)\n",
    "labels = labels[:-1] # remove unknowns\n",
    "\n",
    "label_names = [label.name for label in labels]\n",
    "print(label_names)"
   ]
  },
  {
   "cell_type": "markdown",
   "metadata": {},
   "source": [
    "# A. Simplest Source Reconstruction Pipeline"
   ]
  },
  {
   "cell_type": "markdown",
   "metadata": {},
   "source": [
    "## 5. Compute Noise Covariance"
   ]
  },
  {
   "cell_type": "code",
   "execution_count": null,
   "metadata": {},
   "outputs": [],
   "source": [
    "noise_cov = mne.compute_covariance(epochs)\n",
    "noise_cov.plot(epochs.info, proj=True)\n"
   ]
  },
  {
   "cell_type": "markdown",
   "metadata": {},
   "source": [
    "## 6. Create Inverse Operator"
   ]
  },
  {
   "cell_type": "code",
   "execution_count": null,
   "metadata": {},
   "outputs": [],
   "source": [
    "inverse_operator = mne.minimum_norm.make_inverse_operator(\n",
    "    info=epochs.info,\n",
    "    forward=fwd,\n",
    "    noise_cov=noise_cov,\n",
    "    loose=1.0,\n",
    "    depth=0.8,\n",
    "    verbose=True\n",
    ")"
   ]
  },
  {
   "cell_type": "markdown",
   "metadata": {},
   "source": [
    "## 7. Apply the Inverse to Epochs"
   ]
  },
  {
   "cell_type": "code",
   "execution_count": null,
   "metadata": {},
   "outputs": [],
   "source": [
    "epochs.set_eeg_reference(projection=True) # needed for inverse modelling, ignore error about filename due to selfmade info\n",
    "\n",
    "snr = 3.0\n",
    "lambda2 = 1.0 / snr**2\n",
    "stcs = mne.minimum_norm.apply_inverse_epochs(\n",
    "    epochs,\n",
    "    inverse_operator,\n",
    "    lambda2=lambda2,\n",
    "    method='MNE',\n",
    "    pick_ori='vector'\n",
    ")"
   ]
  },
  {
   "cell_type": "markdown",
   "metadata": {},
   "source": []
  },
  {
   "cell_type": "code",
   "execution_count": null,
   "metadata": {},
   "outputs": [],
   "source": [
    "for stc in stcs:\n",
    "    print(stc)\n",
    "    print(stc.data.shape)"
   ]
  },
  {
   "cell_type": "code",
   "execution_count": null,
   "metadata": {},
   "outputs": [],
   "source": [
    "stc = stcs[1]\n",
    "# Define plotting parameters\n",
    "surfer_kwargs = dict(\n",
    "    hemi=\"lh\",\n",
    "    subjects_dir=SUBJECTS_DIR,\n",
    ")\n",
    "\n",
    "# Plot surface\n",
    "brain = stc.plot(**surfer_kwargs)\n",
    "\n",
    "# Add title\n",
    "brain.add_text(0.1, 0.9, \"SourceEstimate\", \"title\", font_size=16)"
   ]
  },
  {
   "cell_type": "code",
   "execution_count": null,
   "metadata": {},
   "outputs": [],
   "source": [
    "stcs_label_ts = mne.extract_label_time_course(\n",
    "    stcs, labels, fwd['src'], mode='mean')\n",
    "\n",
    "print(f\"Extracted label time courses for {len(stcs_label_ts)} epochs.\")\n",
    "print(f\"Shape of the first epoch's ROI matrix: {stcs_label_ts[0].shape}\")"
   ]
  },
  {
   "cell_type": "code",
   "execution_count": null,
   "metadata": {},
   "outputs": [],
   "source": [
    "# Shape of the first epoch's ROI matrix: (68, 3, 1536)\n",
    "# 68 labels, 3 directions, 1536 time points\n",
    "# drop the direction dimension\n",
    "stcs_label_ts = [np.mean(stc, axis=1) for stc in stcs_label_ts]\n",
    "print(f\"Shape of the first epoch's ROI matrix after dropping the direction dimension: {stcs_label_ts[0].shape}\")\n",
    "\n",
    "# plot the time series of the first label\n",
    "plt.figure(figsize=(10, 5))\n",
    "plt.plot(1e3 * stcs_label_ts[0].T)\n",
    "plt.xlabel(\"Time (ms)\")\n",
    "plt.ylabel(\"Mean source amplitude\")\n",
    "plt.title(f\"Mean source amplitude for {labels[0].name}\")\n",
    "plt.show()"
   ]
  },
  {
   "cell_type": "code",
   "execution_count": null,
   "metadata": {},
   "outputs": [],
   "source": [
    "# Extra"
   ]
  },
  {
   "cell_type": "code",
   "execution_count": null,
   "metadata": {},
   "outputs": [],
   "source": []
  },
  {
   "cell_type": "code",
   "execution_count": null,
   "metadata": {},
   "outputs": [],
   "source": [
    "\n",
    "\n",
    "\n",
    "for epoch_idx in range(5):\n",
    "    sensor_epoch = epochs[epoch_idx]  # in µV\n",
    "    roi_epoch = roi_data[epoch_idx]        # in nAm (or arbitrary MNE units)\n",
    "\n",
    "    roi_epoch = roi_data.mean(axis=0)\n",
    "    sensor_mean = sensor_data.mean(axis=0)\n",
    "\n",
    "\n",
    "    time_points = np.arange(sensor_epoch.size) / epochs.info['sfreq']\n",
    "    time_ms = 1000 * time_points\n",
    "\n",
    "    fig, axes = plt.subplots(2, 1, figsize=(10, 6), sharex=True)\n",
    "    axes[0].plot(time_ms, sensor_epoch, color='b')\n",
    "    axes[0].set_ylabel('Sensor amplitude (µV)')\n",
    "    axes[0].set_title(f'{sensor_name} - epoch #{epoch_idx}')\n",
    "\n",
    "    axes[1].plot(time_ms, roi_epoch, color='g')\n",
    "    axes[1].set_xlabel('Time (ms)')\n",
    "    axes[1].set_ylabel('Source amplitude (nAm)')\n",
    "    axes[1].set_title(f'{roi_name} - epoch #{epoch_idx}')\n",
    "\n",
    "    plt.tight_layout()\n",
    "    plt.show()\n"
   ]
  },
  {
   "cell_type": "code",
   "execution_count": null,
   "metadata": {},
   "outputs": [],
   "source": [
    "\n",
    "# label_ts has shape (n_labels, total_time)\n",
    "# 'labels' is a list of label objects\n",
    "# 'label_names' is the list of label names, or you can do [lbl.name for lbl in labels]\n",
    "\n",
    "roi_info = mne.create_info(\n",
    "    ch_names=[lbl.name for lbl in labels],    # e.g. \"cuneus-lh\", \"insula-rh\", ...\n",
    "    sfreq=epochs.info['sfreq'],\n",
    "    ch_types='eeg'  # treat each ROI time course as an EEG channel\n",
    ")\n",
    "\n",
    "roi_raw = mne.io.RawArray(label_ts, roi_info)\n",
    "roi_raw._filenames = [\"\"]  # to avoid filename warnings\n",
    "\n",
    "\n",
    "# Plot the sensor-level concatenated data\n",
    "raw.plot(\n",
    "    n_channels=10,   # how many channels to view at once\n",
    "    scalings='auto',\n",
    "    title='Sensor-level (Raw)'\n",
    ")\n",
    "\n",
    "# Plot the ROI-level data\n",
    "roi_raw.plot(\n",
    "    n_channels=10,\n",
    "    scalings='auto',\n",
    "    title='ROI-level (Raw)'\n",
    ")\n"
   ]
  },
  {
   "cell_type": "code",
   "execution_count": null,
   "metadata": {},
   "outputs": [],
   "source": [
    "# --- Choose an anatomically close pair ---\n",
    "sensor_name = 'P1'       # Sensor channel (from raw.ch_names)\n",
    "roi_name = 'superiorparietal-lh'   # ROI channel (from roi_raw.ch_names)\n",
    "\n",
    "# --- Extract data from raw objects ---\n",
    "sensor_idx = raw.ch_names.index(sensor_name)\n",
    "roi_idx = roi_raw.ch_names.index(roi_name)\n",
    "\n",
    "sensor_signal = raw.get_data(picks=[sensor_idx])[0]  # shape: (n_times,)\n",
    "roi_signal = roi_raw.get_data(picks=[roi_idx])[0]    # shape: (n_times,)\n",
    "\n",
    "# --- Time vector ---\n",
    "sfreq = raw.info['sfreq']\n",
    "n_times = sensor_signal.shape[0]\n",
    "time = np.arange(n_times) / sfreq  # in seconds\n",
    "\n",
    "# --- Plot side-by-side ---\n",
    "fig, axes = plt.subplots(2, 1, figsize=(12, 6), sharex=True)\n",
    "\n",
    "axes[0].plot(time, sensor_signal, color='blue')\n",
    "axes[0].set_ylabel('Sensor amplitude (µV)')\n",
    "axes[0].set_title(f'Sensor-level signal: {sensor_name}')\n",
    "\n",
    "axes[1].plot(time, roi_signal, color='green')\n",
    "axes[1].set_ylabel('Source amplitude (nAm)')\n",
    "axes[1].set_xlabel('Time (s)')\n",
    "axes[1].set_title(f'Source-level signal: {roi_name}')\n",
    "\n",
    "plt.tight_layout()\n",
    "plt.show()"
   ]
  },
  {
   "cell_type": "code",
   "execution_count": null,
   "metadata": {},
   "outputs": [],
   "source": [
    "from scipy.stats import zscore\n",
    "\n",
    "sensor_signal_norm = zscore(sensor_signal)\n",
    "roi_signal_norm = zscore(roi_signal)\n",
    "\n",
    "plt.figure(figsize=(12, 5))\n",
    "plt.plot(time, sensor_signal_norm, label=f'{sensor_name} (Sensor)', linewidth=2)\n",
    "plt.plot(time, roi_signal_norm, label=f'{roi_name} (ROI)', linewidth=2)\n",
    "plt.xlabel('Time (s)')\n",
    "plt.ylabel('Z-scored amplitude')\n",
    "plt.title('Normalized ROI vs Sensor waveforms')\n",
    "plt.legend()\n",
    "plt.show()\n"
   ]
  },
  {
   "cell_type": "markdown",
   "metadata": {},
   "source": []
  }
 ],
 "metadata": {
  "kernelspec": {
   "display_name": "mirror",
   "language": "python",
   "name": "python3"
  },
  "language_info": {
   "codemirror_mode": {
    "name": "ipython",
    "version": 3
   },
   "file_extension": ".py",
   "mimetype": "text/x-python",
   "name": "python",
   "nbconvert_exporter": "python",
   "pygments_lexer": "ipython3",
   "version": "3.12.9"
  }
 },
 "nbformat": 4,
 "nbformat_minor": 2
}
